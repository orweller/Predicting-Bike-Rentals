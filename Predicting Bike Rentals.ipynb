{
 "cells": [
  {
   "cell_type": "markdown",
   "metadata": {},
   "source": [
    "# Predicting Bike Rentals"
   ]
  },
  {
   "cell_type": "markdown",
   "metadata": {},
   "source": [
    "## Intro to the Data"
   ]
  },
  {
   "cell_type": "markdown",
   "metadata": {},
   "source": [
    "Many American cities have communal bike sharing stations where you can rent bicycles by the hour or day. Washington, D.C. is one of these cities. The District collects detailed data on the number of bicycles people rent by the hour and day.\n",
    "\n",
    "Hadi Fanaee-T at the University of Porto compiled this data into a CSV file. The file contains 17380 rows, with each row representing the number of bike rentals for a single hour of a single day. You can download the data from the [University of California, Irvine's website](http://archive.ics.uci.edu/ml/datasets/Bike+Sharing+Dataset).\n",
    "\n",
    "Here are the descriptions for the relevant columns:\n",
    "\n",
    " * instant - A unique sequential ID number for each row\n",
    " * dteday - The date of the rentals\n",
    " * season - The season in which the rentals occurred\n",
    " * yr - The year the rentals occurred\n",
    " * mnth - The month the rentals occurred\n",
    " * hr - The hour the rentals occurred\n",
    " * holiday - Whether or not the day was a holiday\n",
    " * weekday - The day of the week (as a number, 0 to 7)\n",
    " * workingday - Whether or not the day was a working day\n",
    " * weathersit - The weather (as a categorical variable)\n",
    " * temp - The temperature, on a 0-1 scale\n",
    " * atemp - The adjusted temperature\n",
    " * hum - The humidity, on a 0-1 scale\n",
    " * windspeed - The wind speed, on a 0-1 scale\n",
    " * casual - The number of casual riders (people who hadn't previously signed up with the bike sharing program)\n",
    " * registered - The number of registered riders (people who had already signed up)\n",
    " * cnt - The total number of bike rentals (casual + registered)\n",
    "\n",
    "In this project, we'll try to predict the total number of bikes people rented in a given hour. (We'll predict the cnt column using all of the other columns, except for casual and registered.) To accomplish this, we'll create a few different machine learning models and evaluate their performance."
   ]
  },
  {
   "cell_type": "code",
   "execution_count": 1,
   "metadata": {},
   "outputs": [
    {
     "data": {
      "text/html": [
       "<div>\n",
       "<style scoped>\n",
       "    .dataframe tbody tr th:only-of-type {\n",
       "        vertical-align: middle;\n",
       "    }\n",
       "\n",
       "    .dataframe tbody tr th {\n",
       "        vertical-align: top;\n",
       "    }\n",
       "\n",
       "    .dataframe thead th {\n",
       "        text-align: right;\n",
       "    }\n",
       "</style>\n",
       "<table border=\"1\" class=\"dataframe\">\n",
       "  <thead>\n",
       "    <tr style=\"text-align: right;\">\n",
       "      <th></th>\n",
       "      <th>instant</th>\n",
       "      <th>dteday</th>\n",
       "      <th>season</th>\n",
       "      <th>yr</th>\n",
       "      <th>mnth</th>\n",
       "      <th>hr</th>\n",
       "      <th>holiday</th>\n",
       "      <th>weekday</th>\n",
       "      <th>workingday</th>\n",
       "      <th>weathersit</th>\n",
       "      <th>temp</th>\n",
       "      <th>atemp</th>\n",
       "      <th>hum</th>\n",
       "      <th>windspeed</th>\n",
       "      <th>casual</th>\n",
       "      <th>registered</th>\n",
       "      <th>cnt</th>\n",
       "    </tr>\n",
       "  </thead>\n",
       "  <tbody>\n",
       "    <tr>\n",
       "      <th>0</th>\n",
       "      <td>1</td>\n",
       "      <td>2011-01-01</td>\n",
       "      <td>1</td>\n",
       "      <td>0</td>\n",
       "      <td>1</td>\n",
       "      <td>0</td>\n",
       "      <td>0</td>\n",
       "      <td>6</td>\n",
       "      <td>0</td>\n",
       "      <td>1</td>\n",
       "      <td>0.24</td>\n",
       "      <td>0.2879</td>\n",
       "      <td>0.81</td>\n",
       "      <td>0.0</td>\n",
       "      <td>3</td>\n",
       "      <td>13</td>\n",
       "      <td>16</td>\n",
       "    </tr>\n",
       "    <tr>\n",
       "      <th>1</th>\n",
       "      <td>2</td>\n",
       "      <td>2011-01-01</td>\n",
       "      <td>1</td>\n",
       "      <td>0</td>\n",
       "      <td>1</td>\n",
       "      <td>1</td>\n",
       "      <td>0</td>\n",
       "      <td>6</td>\n",
       "      <td>0</td>\n",
       "      <td>1</td>\n",
       "      <td>0.22</td>\n",
       "      <td>0.2727</td>\n",
       "      <td>0.80</td>\n",
       "      <td>0.0</td>\n",
       "      <td>8</td>\n",
       "      <td>32</td>\n",
       "      <td>40</td>\n",
       "    </tr>\n",
       "    <tr>\n",
       "      <th>2</th>\n",
       "      <td>3</td>\n",
       "      <td>2011-01-01</td>\n",
       "      <td>1</td>\n",
       "      <td>0</td>\n",
       "      <td>1</td>\n",
       "      <td>2</td>\n",
       "      <td>0</td>\n",
       "      <td>6</td>\n",
       "      <td>0</td>\n",
       "      <td>1</td>\n",
       "      <td>0.22</td>\n",
       "      <td>0.2727</td>\n",
       "      <td>0.80</td>\n",
       "      <td>0.0</td>\n",
       "      <td>5</td>\n",
       "      <td>27</td>\n",
       "      <td>32</td>\n",
       "    </tr>\n",
       "    <tr>\n",
       "      <th>3</th>\n",
       "      <td>4</td>\n",
       "      <td>2011-01-01</td>\n",
       "      <td>1</td>\n",
       "      <td>0</td>\n",
       "      <td>1</td>\n",
       "      <td>3</td>\n",
       "      <td>0</td>\n",
       "      <td>6</td>\n",
       "      <td>0</td>\n",
       "      <td>1</td>\n",
       "      <td>0.24</td>\n",
       "      <td>0.2879</td>\n",
       "      <td>0.75</td>\n",
       "      <td>0.0</td>\n",
       "      <td>3</td>\n",
       "      <td>10</td>\n",
       "      <td>13</td>\n",
       "    </tr>\n",
       "    <tr>\n",
       "      <th>4</th>\n",
       "      <td>5</td>\n",
       "      <td>2011-01-01</td>\n",
       "      <td>1</td>\n",
       "      <td>0</td>\n",
       "      <td>1</td>\n",
       "      <td>4</td>\n",
       "      <td>0</td>\n",
       "      <td>6</td>\n",
       "      <td>0</td>\n",
       "      <td>1</td>\n",
       "      <td>0.24</td>\n",
       "      <td>0.2879</td>\n",
       "      <td>0.75</td>\n",
       "      <td>0.0</td>\n",
       "      <td>0</td>\n",
       "      <td>1</td>\n",
       "      <td>1</td>\n",
       "    </tr>\n",
       "  </tbody>\n",
       "</table>\n",
       "</div>"
      ],
      "text/plain": [
       "   instant      dteday  season  yr  mnth  hr  holiday  weekday  workingday  \\\n",
       "0        1  2011-01-01       1   0     1   0        0        6           0   \n",
       "1        2  2011-01-01       1   0     1   1        0        6           0   \n",
       "2        3  2011-01-01       1   0     1   2        0        6           0   \n",
       "3        4  2011-01-01       1   0     1   3        0        6           0   \n",
       "4        5  2011-01-01       1   0     1   4        0        6           0   \n",
       "\n",
       "   weathersit  temp   atemp   hum  windspeed  casual  registered  cnt  \n",
       "0           1  0.24  0.2879  0.81        0.0       3          13   16  \n",
       "1           1  0.22  0.2727  0.80        0.0       8          32   40  \n",
       "2           1  0.22  0.2727  0.80        0.0       5          27   32  \n",
       "3           1  0.24  0.2879  0.75        0.0       3          10   13  \n",
       "4           1  0.24  0.2879  0.75        0.0       0           1    1  "
      ]
     },
     "execution_count": 1,
     "metadata": {},
     "output_type": "execute_result"
    }
   ],
   "source": [
    "import pandas as pd\n",
    "import numpy as np\n",
    "import matplotlib.pyplot as plt\n",
    "%matplotlib inline\n",
    "\n",
    "bike_rentals = pd.read_csv(\"hour.csv\")\n",
    "bike_rentals.head()"
   ]
  },
  {
   "cell_type": "code",
   "execution_count": 2,
   "metadata": {},
   "outputs": [
    {
     "data": {
      "text/plain": [
       "(17379, 17)"
      ]
     },
     "execution_count": 2,
     "metadata": {},
     "output_type": "execute_result"
    }
   ],
   "source": [
    "bike_rentals.shape"
   ]
  },
  {
   "cell_type": "code",
   "execution_count": 3,
   "metadata": {},
   "outputs": [
    {
     "data": {
      "image/png": "[encoded data removed]",
      "text/plain": [
       "<Figure size 432x288 with 1 Axes>"
      ]
     },
     "metadata": {
      "needs_background": "light"
     },
     "output_type": "display_data"
    }
   ],
   "source": [
    "plt.hist(bike_rentals['cnt'])\n",
    "plt.show()"
   ]
  },
  {
   "cell_type": "code",
   "execution_count": 4,
   "metadata": {},
   "outputs": [
    {
     "data": {
      "text/plain": [
       "cnt           1.000000\n",
       "registered    0.972151\n",
       "casual        0.694564\n",
       "temp          0.404772\n",
       "atemp         0.400929\n",
       "hr            0.394071\n",
       "hum           0.322911\n",
       "instant       0.278379\n",
       "yr            0.250495\n",
       "season        0.178056\n",
       "weathersit    0.142426\n",
       "mnth          0.120638\n",
       "windspeed     0.093234\n",
       "holiday       0.030927\n",
       "workingday    0.030284\n",
       "weekday       0.026900\n",
       "Name: cnt, dtype: float64"
      ]
     },
     "execution_count": 4,
     "metadata": {},
     "output_type": "execute_result"
    }
   ],
   "source": [
    "abs(bike_rentals.corr()['cnt']).sort_values(ascending=False)"
   ]
  },
  {
   "cell_type": "markdown",
   "metadata": {},
   "source": [
    "## Calculating Features"
   ]
  },
  {
   "cell_type": "markdown",
   "metadata": {},
   "source": [
    "### Bundling Hours"
   ]
  },
  {
   "cell_type": "code",
   "execution_count": 5,
   "metadata": {},
   "outputs": [],
   "source": [
    "def assign_label(hr):\n",
    "    if hr <= 6:\n",
    "        return 4\n",
    "    elif 6 < hr <= 12:\n",
    "        return 1\n",
    "    elif 12 < hr <= 18:\n",
    "        return 2\n",
    "    elif 18 < hr <= 24:\n",
    "        return 3\n",
    "    \n",
    "bike_rentals['time_label'] = bike_rentals['hr'].apply(assign_label)"
   ]
  },
  {
   "cell_type": "markdown",
   "metadata": {},
   "source": [
    "### Bundling Weather"
   ]
  },
  {
   "cell_type": "code",
   "execution_count": 6,
   "metadata": {},
   "outputs": [],
   "source": [
    "bike_rentals['weather_index'] = bike_rentals['temp'] + bike_rentals['hum'] + bike_rentals['windspeed']"
   ]
  },
  {
   "cell_type": "code",
   "execution_count": 7,
   "metadata": {},
   "outputs": [
    {
     "data": {
      "text/plain": [
       "cnt              1.000000\n",
       "registered       0.972151\n",
       "casual           0.694564\n",
       "time_label       0.494422\n",
       "temp             0.404772\n",
       "atemp            0.400929\n",
       "hr               0.394071\n",
       "hum              0.322911\n",
       "instant          0.278379\n",
       "yr               0.250495\n",
       "season           0.178056\n",
       "weathersit       0.142426\n",
       "mnth             0.120638\n",
       "weather_index    0.102756\n",
       "windspeed        0.093234\n",
       "holiday          0.030927\n",
       "workingday       0.030284\n",
       "weekday          0.026900\n",
       "Name: cnt, dtype: float64"
      ]
     },
     "execution_count": 7,
     "metadata": {},
     "output_type": "execute_result"
    }
   ],
   "source": [
    "abs(bike_rentals.corr()['cnt']).sort_values(ascending=False)"
   ]
  },
  {
   "cell_type": "markdown",
   "metadata": {},
   "source": [
    "## Splitting the Data Into Train, Validation and Test Sets"
   ]
  },
  {
   "cell_type": "markdown",
   "metadata": {},
   "source": [
    "Based on the cnt column, we'll use the MSE (Mean Squared Error) as the error metric for our models.  The MSE works well with continuous numeric data, which is what we're dealing with."
   ]
  },
  {
   "cell_type": "code",
   "execution_count": 8,
   "metadata": {},
   "outputs": [],
   "source": [
    "train = bike_rentals.sample(frac=.6, random_state=1)\n",
    "remainder = bike_rentals.loc[~bike_rentals.index.isin(train.index)]\n",
    "val = remainder.sample(frac=.5, random_state=1)\n",
    "test = remainder.loc[~remainder.index.isin(val.index)]"
   ]
  },
  {
   "cell_type": "code",
   "execution_count": 9,
   "metadata": {},
   "outputs": [
    {
     "data": {
      "text/plain": [
       "((10427, 19), (3476, 19), (3476, 19))"
      ]
     },
     "execution_count": 9,
     "metadata": {},
     "output_type": "execute_result"
    }
   ],
   "source": [
    "train.shape, val.shape, test.shape"
   ]
  },
  {
   "cell_type": "markdown",
   "metadata": {},
   "source": [
    "## Linear Regression"
   ]
  },
  {
   "cell_type": "code",
   "execution_count": 10,
   "metadata": {},
   "outputs": [],
   "source": [
    "features = ['season', 'yr', 'mnth', 'hr', 'holiday', 'weekday',\n",
    "       'workingday', 'weathersit', 'temp', 'hum', 'windspeed', 'time_label']\n",
    "target = ['cnt']"
   ]
  },
  {
   "cell_type": "code",
   "execution_count": 11,
   "metadata": {},
   "outputs": [
    {
     "name": "stdout",
     "output_type": "stream",
     "text": [
      "train mse: 16598.376501726925       val mse: 15795.340172836932       difference: 803.0363288899935\n"
     ]
    }
   ],
   "source": [
    "from sklearn.linear_model import LinearRegression\n",
    "\n",
    "lr = LinearRegression()\n",
    "lr.fit(train[features], train['cnt'])\n",
    "val_predictions = lr.predict(val[features])\n",
    "val_mse = np.mean((val_predictions - val['cnt']) ** 2)\n",
    "train_predictions = lr.predict(train[features])\n",
    "train_mse = np.mean((train_predictions - train['cnt']) ** 2)\n",
    "difference = abs(val_mse-train_mse)\n",
    "print('train mse: {}       val mse: {}       difference: {}'.format(train_mse, val_mse, difference))"
   ]
  },
  {
   "cell_type": "markdown",
   "metadata": {},
   "source": [
    "The training and validation MSE's are very close togther.  This suggest our model is not overfitting.  However, this MSE seems very high... probably due to the fact that there are a few very high rental counts and these large errors are penalized more with MSE."
   ]
  },
  {
   "cell_type": "markdown",
   "metadata": {},
   "source": [
    "| Model | Train MSE | Validation MSE | Difference |\n",
    "| :------- | ------: | ------: | -----: |\n",
    "| Linear Regressor - default params | 16,598.37 | 15,795.34 | 803.03 |"
   ]
  },
  {
   "cell_type": "markdown",
   "metadata": {},
   "source": [
    "Let's explore other models to see if we can improve."
   ]
  },
  {
   "cell_type": "markdown",
   "metadata": {},
   "source": [
    "## Decision Trees"
   ]
  },
  {
   "cell_type": "markdown",
   "metadata": {},
   "source": [
    "### Default Parameters\n",
    "We'll begin with default parameters."
   ]
  },
  {
   "cell_type": "code",
   "execution_count": 12,
   "metadata": {},
   "outputs": [
    {
     "name": "stdout",
     "output_type": "stream",
     "text": [
      "train mse: 0.1980914932387072       val mse: 3738.3179660529345       difference: 3738.1198745596957\n"
     ]
    }
   ],
   "source": [
    "from sklearn.tree import DecisionTreeRegressor\n",
    "\n",
    "dtr1 = DecisionTreeRegressor(random_state=1)\n",
    "dtr1.fit(train[features], train['cnt'])\n",
    "val_predictions = dtr1.predict(val[features])\n",
    "val_mse = np.mean((val_predictions - val['cnt']) ** 2)\n",
    "train_predictions = dtr1.predict(train[features])\n",
    "train_mse = np.mean((train_predictions - train['cnt']) ** 2)\n",
    "difference = abs(val_mse-train_mse)\n",
    "print('train mse: {}       val mse: {}       difference: {}'.format(train_mse, val_mse, difference))"
   ]
  },
  {
   "cell_type": "markdown",
   "metadata": {},
   "source": [
    "The trian and validation values are no where close to each other, suggesting that our model is overfitting badly."
   ]
  },
  {
   "cell_type": "markdown",
   "metadata": {},
   "source": [
    "| Model | Train MSE | Validation MSE | Difference |\n",
    "| :------- | ------: | ------: | -----: |\n",
    "| Linear Regressor - default params | 16,598.37 | 15,795.34 | 803.03 |\n",
    "| Decision Tree Regressor - default params | 0.19 | 3,738.31 | 3,738.11 |"
   ]
  },
  {
   "cell_type": "markdown",
   "metadata": {},
   "source": [
    "Let's try to tune some hyperparameters on this model to improve."
   ]
  },
  {
   "cell_type": "markdown",
   "metadata": {},
   "source": [
    "### Optimizing max_depth Parameter"
   ]
  },
  {
   "cell_type": "code",
   "execution_count": 13,
   "metadata": {},
   "outputs": [
    {
     "name": "stdout",
     "output_type": "stream",
     "text": [
      "i:1  val_mse:22301.318153072145  train_mse:23694.357576165083  difference: 1393.0394230929378\n",
      "i:2  val_mse:18671.18285930178  train_mse:20024.02986757252  difference: 1352.847008270739\n",
      "i:3  val_mse:15937.366391751859  train_mse:17130.392322588854  difference: 1193.025930836995\n",
      "i:4  val_mse:13484.148565173959  train_mse:14481.579980796783  difference: 997.4314156228247\n",
      "i:5  val_mse:11469.897211128733  train_mse:11664.903448889168  difference: 195.0062377604354\n",
      "i:6  val_mse:10134.982754975676  train_mse:10134.589868852496  difference: 0.3928861231797782\n",
      "i:7  val_mse:6973.134306034776  train_mse:6736.0652403292215  difference: 237.06906570555475\n",
      "i:8  val_mse:5444.157904900875  train_mse:4623.748470665714  difference: 820.4094342351609\n",
      "i:9  val_mse:4225.240938331656  train_mse:3223.1977471725972  difference: 1002.043191159059\n",
      "i:10  val_mse:3944.8009849816654  train_mse:2326.4969978890495  difference: 1618.303987092616\n",
      "i:11  val_mse:3597.140986034394  train_mse:1704.6654585233398  difference: 1892.475527511054\n",
      "i:12  val_mse:3462.644810460156  train_mse:1201.4260514872728  difference: 2261.218758972883\n",
      "i:13  val_mse:3320.6985045937035  train_mse:842.0295331398661  difference: 2478.6689714538375\n",
      "i:14  val_mse:3476.0975711975457  train_mse:571.6576811498278  difference: 2904.439890047718\n",
      "i:15  val_mse:3779.596235258219  train_mse:384.6481234337629  difference: 3394.948111824456\n",
      "i:16  val_mse:3765.7403330845523  train_mse:233.73842281898192  difference: 3532.0019102655706\n",
      "i:17  val_mse:3744.546971469302  train_mse:148.0211741118785  difference: 3596.5257973574235\n",
      "i:18  val_mse:3826.7206493154226  train_mse:90.65386497259661  difference: 3736.066784342826\n",
      "i:19  val_mse:3788.7267334782273  train_mse:48.63792782015785  difference: 3740.0888056580693\n",
      "i:20  val_mse:3926.265013016541  train_mse:26.94428855617679  difference: 3899.3207244603645\n",
      "i:21  val_mse:3731.5686829248625  train_mse:13.65028830120187  difference: 3717.918394623661\n",
      "i:22  val_mse:3680.5058389236783  train_mse:7.357315543756289  difference: 3673.148523379922\n",
      "i:23  val_mse:3816.1159944698306  train_mse:4.089344075439069  difference: 3812.0266503943917\n",
      "i:24  val_mse:3774.787779932919  train_mse:2.309850052923324  difference: 3772.477929879996\n",
      "i:25  val_mse:3848.437653752717  train_mse:1.212988715194527  difference: 3847.2246650375223\n",
      "i:26  val_mse:3788.446114627285  train_mse:0.5241488443464085  difference: 3787.921965782939\n",
      "i:27  val_mse:3792.844658012083  train_mse:0.3523424762635466  difference: 3792.4923155358197\n",
      "i:28  val_mse:3798.7963895281932  train_mse:0.2616524407787475  difference: 3798.5347370874147\n",
      "i:29  val_mse:3804.6315448791715  train_mse:0.20269492663278027  difference: 3804.4288499525387\n"
     ]
    }
   ],
   "source": [
    "val_mses = []\n",
    "train_mses = []\n",
    "\n",
    "for i in range(1,30):\n",
    "    dtr2 = DecisionTreeRegressor(max_depth=i, random_state=1)\n",
    "    dtr2.fit(train[features], train['cnt'])\n",
    "    val_predictions = dtr2.predict(val[features])\n",
    "    val_mse = np.mean((val_predictions - val['cnt']) ** 2)\n",
    "    val_mses.append(val_mse)\n",
    "    train_predictions = dtr2.predict(train[features])\n",
    "    train_mse = np.mean((train_predictions - train['cnt']) ** 2)\n",
    "    train_mses.append(train_mse)\n",
    "    difference = abs(val_mse - train_mse)\n",
    "    print('i:{}  val_mse:{}  train_mse:{}  difference: {}'.format(i, val_mse, train_mse, difference))"
   ]
  },
  {
   "cell_type": "code",
   "execution_count": 14,
   "metadata": {},
   "outputs": [
    {
     "data": {
      "image/png": "[encoded data removed]",
      "text/plain": [
       "<Figure size 432x288 with 1 Axes>"
      ]
     },
     "metadata": {
      "needs_background": "light"
     },
     "output_type": "display_data"
    }
   ],
   "source": [
    "x = range(1,30)\n",
    "plt.plot(x,val_mses,label=\"validation\")\n",
    "plt.plot(x,train_mses, label=\"train\")\n",
    "plt.xlabel('max_depth')\n",
    "plt.ylabel('MSE')\n",
    "plt.title(\"MSE's by max_depth\")\n",
    "plt.axvline(7)\n",
    "plt.legend()\n",
    "plt.show()"
   ]
  },
  {
   "cell_type": "markdown",
   "metadata": {},
   "source": [
    "As we can see the validation min occurs at a max_depth value of 14.  But if we choose a value of 7, w minimize the difference between the train and validation MSE's which will help us prevent overfitting."
   ]
  },
  {
   "cell_type": "code",
   "execution_count": 15,
   "metadata": {},
   "outputs": [
    {
     "name": "stdout",
     "output_type": "stream",
     "text": [
      "train mse: 6736.0652403292215       val mse: 6973.134306034776       difference: 237.06906570555475\n"
     ]
    }
   ],
   "source": [
    "dtr2 = DecisionTreeRegressor(max_depth=7, random_state=1)\n",
    "dtr2.fit(train[features], train['cnt'])\n",
    "val_predictions = dtr2.predict(val[features])\n",
    "val_mse = np.mean((val_predictions - val['cnt']) ** 2)\n",
    "train_predictions = dtr2.predict(train[features])\n",
    "train_mse = np.mean((train_predictions - train['cnt']) ** 2)\n",
    "difference = abs(val_mse-train_mse)\n",
    "print('train mse: {}       val mse: {}       difference: {}'.format(train_mse, val_mse, difference))"
   ]
  },
  {
   "cell_type": "markdown",
   "metadata": {},
   "source": [
    "From these results, we have greatly improved on our model, and don't appear to be overfitting."
   ]
  },
  {
   "cell_type": "markdown",
   "metadata": {},
   "source": [
    "| Model | Train MSE | Validation MSE | Difference |\n",
    "| :------- | ------: | ------: | -----: |\n",
    "| Linear Regressor - default params | 16,598.37 | 15,795.34 | 803.03 |\n",
    "| Decision Tree Regressor - default params | 0.19 | 3,738.31 | 3,738.11 |\n",
    "| Decision Tree Regressor - max_depth=7 | 6,736.06 | 6,973.13 | 237.06 |"
   ]
  },
  {
   "cell_type": "markdown",
   "metadata": {},
   "source": [
    "Let's try optimizing our min_samples_leaf parameter next."
   ]
  },
  {
   "cell_type": "markdown",
   "metadata": {},
   "source": [
    "### Optimizing min_samples_leaf Parameter"
   ]
  },
  {
   "cell_type": "code",
   "execution_count": 16,
   "metadata": {},
   "outputs": [
    {
     "name": "stdout",
     "output_type": "stream",
     "text": [
      "i:1  val_mse:6973.134306034776  train_mse:6736.0652403292215  difference: 237.06906570555475\n",
      "i:2  val_mse:6970.562694730837  train_mse:6739.125951552301  difference: 231.43674317853674\n",
      "i:3  val_mse:6970.438559315751  train_mse:6739.260597285322  difference: 231.17796203042963\n",
      "i:4  val_mse:6971.211133544921  train_mse:6740.899885265721  difference: 230.3112482791994\n",
      "i:5  val_mse:6971.611526841898  train_mse:6741.032114821274  difference: 230.57941202062375\n",
      "i:6  val_mse:6971.042197862008  train_mse:6742.3587808349  difference: 228.68341702710768\n",
      "i:7  val_mse:6967.119808047431  train_mse:6743.481242667049  difference: 223.63856538038272\n",
      "i:8  val_mse:6972.342349096207  train_mse:6747.586541935654  difference: 224.75580716055265\n",
      "i:9  val_mse:6974.086736334363  train_mse:6748.309057016863  difference: 225.77767931749986\n",
      "i:10  val_mse:6974.264510250231  train_mse:6748.446785856521  difference: 225.8177243937098\n",
      "i:11  val_mse:6970.928263502918  train_mse:6749.639930750035  difference: 221.28833275288252\n",
      "i:12  val_mse:6970.011447664587  train_mse:6750.14397405616  difference: 219.86747360842674\n",
      "i:13  val_mse:6968.809145229731  train_mse:6751.08158825057  difference: 217.7275569791609\n",
      "i:14  val_mse:6971.204545737725  train_mse:6758.279876613532  difference: 212.92466912419331\n",
      "i:15  val_mse:6985.3056066815  train_mse:6761.005738035719  difference: 224.2998686457804\n",
      "i:16  val_mse:6981.028841390862  train_mse:6761.705630309379  difference: 219.32321108148335\n",
      "i:17  val_mse:6982.055041098493  train_mse:6762.490149120655  difference: 219.56489197783867\n",
      "i:18  val_mse:6983.159706812609  train_mse:6763.345384696071  difference: 219.81432211653828\n",
      "i:19  val_mse:6997.98737376809  train_mse:6764.322736141299  difference: 233.66463762679086\n"
     ]
    }
   ],
   "source": [
    "val_mses = []\n",
    "train_mses = []\n",
    "\n",
    "for i in range(1,20):\n",
    "    dtr3 = DecisionTreeRegressor(max_depth=7, min_samples_leaf=i, random_state=1)\n",
    "    dtr3.fit(train[features], train['cnt'])\n",
    "    val_predictions = dtr3.predict(val[features])\n",
    "    val_mse = np.mean((val_predictions - val['cnt']) ** 2)\n",
    "    val_mses.append(val_mse)\n",
    "    train_predictions = dtr3.predict(train[features])\n",
    "    train_mse = np.mean((train_predictions - train['cnt']) ** 2)\n",
    "    train_mses.append(train_mse)\n",
    "    difference = abs(val_mse - train_mse)\n",
    "    print('i:{}  val_mse:{}  train_mse:{}  difference: {}'.format(i, val_mse, train_mse, difference))"
   ]
  },
  {
   "cell_type": "code",
   "execution_count": 17,
   "metadata": {},
   "outputs": [
    {
     "data": {
      "image/png": "[encoded data removed]",
      "text/plain": [
       "<Figure size 432x288 with 1 Axes>"
      ]
     },
     "metadata": {
      "needs_background": "light"
     },
     "output_type": "display_data"
    }
   ],
   "source": [
    "x = range(1,20)\n",
    "plt.plot(x,val_mses,label=\"validation\")\n",
    "plt.plot(x,train_mses, label=\"train\")\n",
    "plt.xlabel('min_samples_leaf')\n",
    "plt.ylabel('MSE')\n",
    "plt.title(\"MSE's by min_samples_leaf\")\n",
    "plt.legend()\n",
    "plt.show()"
   ]
  },
  {
   "cell_type": "markdown",
   "metadata": {},
   "source": [
    "From this graph we can see that choosing a min_samples_leaf value of 7 minimizes our validation MSE and also slightly lowers the difference between validation MSE and train MSE so this is a slight improvement on our model."
   ]
  },
  {
   "cell_type": "code",
   "execution_count": 18,
   "metadata": {},
   "outputs": [
    {
     "name": "stdout",
     "output_type": "stream",
     "text": [
      "train mse: 6743.481242667049       val mse: 6967.119808047431       difference: 223.63856538038272\n"
     ]
    }
   ],
   "source": [
    "dtr3 = DecisionTreeRegressor(max_depth=7, min_samples_leaf=7, random_state=1)\n",
    "dtr3.fit(train[features], train['cnt'])\n",
    "val_predictions = dtr3.predict(val[features])\n",
    "val_mse = np.mean((val_predictions - val['cnt']) ** 2)\n",
    "train_predictions = dtr3.predict(train[features])\n",
    "train_mse = np.mean((train_predictions - train['cnt']) ** 2)\n",
    "difference = abs(val_mse-train_mse)\n",
    "print('train mse: {}       val mse: {}       difference: {}'.format(train_mse, val_mse, difference))"
   ]
  },
  {
   "cell_type": "markdown",
   "metadata": {},
   "source": [
    "Results below:"
   ]
  },
  {
   "cell_type": "markdown",
   "metadata": {},
   "source": [
    "| Model | Train MSE | Validation MSE | Difference |\n",
    "| :------- | ------: | ------: | -----: |\n",
    "| Linear Regressor - default params | 16,598.37 | 15,795.34 | 803.03 |\n",
    "| Decision Tree Regressor - default params | 0.19 | 3,738.31 | 3,738.11 |\n",
    "| Decision Tree Regressor - max_depth=7 | 6,736.06 | 6,973.13 | 237.06 |\n",
    "| Decision Tree Regressor - max_depth=7, min_samples_leaf=7 | 6,743.48 | 6,967.11 | 223.63 |"
   ]
  },
  {
   "cell_type": "markdown",
   "metadata": {},
   "source": [
    "Let's continue to look if we can improve with a random forest model."
   ]
  },
  {
   "cell_type": "markdown",
   "metadata": {},
   "source": [
    "## Random Forests"
   ]
  },
  {
   "cell_type": "markdown",
   "metadata": {},
   "source": [
    "### Default Parameters\n",
    "Again, we'll begin with default parameters."
   ]
  },
  {
   "cell_type": "code",
   "execution_count": 19,
   "metadata": {},
   "outputs": [
    {
     "name": "stdout",
     "output_type": "stream",
     "text": [
      "train mse: 270.8788545594664       val mse: 2056.17433461927       difference: 1785.2954800598038\n"
     ]
    }
   ],
   "source": [
    "from sklearn.ensemble import RandomForestRegressor\n",
    "\n",
    "rf1 = RandomForestRegressor(random_state=1)\n",
    "rf1.fit(train[features], train['cnt'])\n",
    "val_predictions = rf1.predict(val[features])\n",
    "val_mse = np.mean((val_predictions - val['cnt']) ** 2)\n",
    "train_predictions = rf1.predict(train[features])\n",
    "train_mse = np.mean((train_predictions - train['cnt']) ** 2)\n",
    "difference = abs(val_mse-train_mse)\n",
    "print('train mse: {}       val mse: {}       difference: {}'.format(train_mse, val_mse, difference))"
   ]
  },
  {
   "cell_type": "markdown",
   "metadata": {},
   "source": [
    "We can see again, that the default parameters produce a model that is badly overfitting."
   ]
  },
  {
   "cell_type": "markdown",
   "metadata": {},
   "source": [
    "| Model | Train MSE | Validation MSE | Difference |\n",
    "| :------- | ------: | ------: | -----: |\n",
    "| Linear Regressor - default params | 16,598.37 | 15,795.34 | 803.03 |\n",
    "| Decision Tree Regressor - default params | 0.19 | 3,738.31 | 3,738.11 |\n",
    "| Decision Tree Regressor - max_depth=7 | 6,736.06 | 6,973.13 | 237.06 |\n",
    "| Decision Tree Regressor - max_depth=7, min_samples_leaf=7 | 6,743.48 | 6,967.11 | 223.63 |\n",
    "| Random Forest - default params | 270.87 | 2,056.17 | 1,785.29 |"
   ]
  },
  {
   "cell_type": "markdown",
   "metadata": {},
   "source": [
    "Let's see if we can correct that with some tuning."
   ]
  },
  {
   "cell_type": "markdown",
   "metadata": {},
   "source": [
    "### Optimizing the max_depth Parameter"
   ]
  },
  {
   "cell_type": "code",
   "execution_count": 20,
   "metadata": {},
   "outputs": [
    {
     "name": "stdout",
     "output_type": "stream",
     "text": [
      "i:1 val_mse:22303.173995862846 train_mse:23694.392069059297 diff:-1391.2180731964509 %:-0.06\n",
      "i:2 val_mse:18504.478336960663 train_mse:19853.945975213675 diff:-1349.4676382530124 %:-0.07\n",
      "i:3 val_mse:15606.003900141819 train_mse:16801.68915447394 diff:-1195.685254332122 %:-0.08\n",
      "i:4 val_mse:13099.937893938797 train_mse:14080.885708351178 diff:-980.9478144123805 %:-0.07\n",
      "i:5 val_mse:10980.09551726562 train_mse:11260.744127632264 diff:-280.6486103666448 %:-0.03\n",
      "i:6 val_mse:9186.069379079441 train_mse:9295.497663399374 diff:-109.42828431993257 %:-0.01\n",
      "i:7 val_mse:5821.785623242702 train_mse:5659.462139501373 diff:162.32348374132926 %:0.03\n",
      "i:8 val_mse:4374.760298124888 train_mse:3841.1299569166463 diff:533.630341208242 %:0.12\n",
      "i:9 val_mse:3339.0401473737347 train_mse:2611.7394872070004 diff:727.3006601667344 %:0.22\n",
      "i:10 val_mse:2797.1996777421555 train_mse:1817.1741284207378 diff:980.0255493214177 %:0.35\n",
      "i:11 val_mse:2466.4861172351266 train_mse:1286.8306279223775 diff:1179.655489312749 %:0.48\n",
      "i:12 val_mse:2267.8264915003433 train_mse:920.7723454652016 diff:1347.0541460351417 %:0.59\n",
      "i:13 val_mse:2163.806325357227 train_mse:683.559273897872 diff:1480.2470514593547 %:0.68\n",
      "i:14 val_mse:2098.473661724529 train_mse:528.2420516307582 diff:1570.2316100937708 %:0.75\n",
      "i:15 val_mse:2075.48031148428 train_mse:427.8649393033742 diff:1647.6153721809055 %:0.79\n",
      "i:16 val_mse:2083.8694487921957 train_mse:364.9924876099651 diff:1718.8769611822306 %:0.82\n",
      "i:17 val_mse:2056.828130822235 train_mse:326.43377820783263 diff:1730.3943526144024 %:0.84\n",
      "i:18 val_mse:2054.2632985199557 train_mse:301.74725990818723 diff:1752.5160386117684 %:0.85\n",
      "i:19 val_mse:2051.7942883434685 train_mse:287.47157374628364 diff:1764.3227145971848 %:0.86\n"
     ]
    }
   ],
   "source": [
    "val_mses = []\n",
    "train_mses = []\n",
    "\n",
    "for i in range(1,20):\n",
    "    rf2 = RandomForestRegressor(max_depth=i, random_state=1)\n",
    "    rf2.fit(train[features], train['cnt'])\n",
    "    val_predictions = rf2.predict(val[features])\n",
    "    val_mse = np.mean((val_predictions - val['cnt']) ** 2)\n",
    "    val_mses.append(val_mse)\n",
    "    train_predictions = rf2.predict(train[features])\n",
    "    train_mse = np.mean((train_predictions - train['cnt']) ** 2)\n",
    "    train_mses.append(train_mse)\n",
    "    diff = val_mse - train_mse\n",
    "    percent_diff = round((diff/val_mse),2)\n",
    "    print('i:{} val_mse:{} train_mse:{} diff:{} %:{}'.format(i, val_mse, train_mse, diff, percent_diff))"
   ]
  },
  {
   "cell_type": "code",
   "execution_count": 21,
   "metadata": {},
   "outputs": [
    {
     "data": {
      "image/png": "[encoded data removed]",
      "text/plain": [
       "<Figure size 432x288 with 1 Axes>"
      ]
     },
     "metadata": {
      "needs_background": "light"
     },
     "output_type": "display_data"
    }
   ],
   "source": [
    "x = range(1,20)\n",
    "plt.plot(x,val_mses,label=\"validation\")\n",
    "plt.plot(x,train_mses, label=\"train\")\n",
    "plt.xlabel('max_depth')\n",
    "plt.ylabel('MSE')\n",
    "plt.title(\"MSE's by max_depth\")\n",
    "plt.legend()\n",
    "plt.show()"
   ]
  },
  {
   "cell_type": "markdown",
   "metadata": {},
   "source": [
    "Based on these results, it appears a max_depth of 7 is appropriate."
   ]
  },
  {
   "cell_type": "code",
   "execution_count": 22,
   "metadata": {},
   "outputs": [
    {
     "name": "stdout",
     "output_type": "stream",
     "text": [
      "train mse: 5659.462139501373       val mse: 5821.785623242702       difference: 162.32348374132926\n"
     ]
    }
   ],
   "source": [
    "rf2 = RandomForestRegressor(max_depth=7, random_state=1)\n",
    "rf2.fit(train[features], train['cnt'])\n",
    "val_predictions = rf2.predict(val[features])\n",
    "val_mse = np.mean((val_predictions - val['cnt']) ** 2)\n",
    "train_predictions = rf2.predict(train[features])\n",
    "train_mse = np.mean((train_predictions - train['cnt']) ** 2)\n",
    "difference = abs(val_mse-train_mse)\n",
    "print('train mse: {}       val mse: {}       difference: {}'.format(train_mse, val_mse, difference))"
   ]
  },
  {
   "cell_type": "markdown",
   "metadata": {},
   "source": [
    "This model (with max_depth=7) is an improvement and our best model yet, as it both lowers MSE values and helps to correct our overfitting."
   ]
  },
  {
   "cell_type": "markdown",
   "metadata": {},
   "source": [
    "| Model | Train MSE | Validation MSE | Difference |\n",
    "| :------- | ------: | ------: | -----: |\n",
    "| Linear Regressor - default params | 16,598.37 | 15,795.34 | 803.03 |\n",
    "| Decision Tree Regressor - default params | 0.19 | 3,738.31 | 3,738.11 |\n",
    "| Decision Tree Regressor - max_depth=7 | 6,736.06 | 6,973.13 | 237.06 |\n",
    "| Decision Tree Regressor - max_depth=7, min_samples_leaf=7 | 6,743.48 | 6,967.11 | 223.63 |\n",
    "| Random Forest - default params | 270.87 | 2,056.17 | 1,785.29 |\n",
    "| Random Forest - max_depth=7 | 5,659.46 | 5821.78 | 162.32 |"
   ]
  },
  {
   "cell_type": "markdown",
   "metadata": {},
   "source": [
    "Let's see if we can improve more by tuning other parameters."
   ]
  },
  {
   "cell_type": "markdown",
   "metadata": {},
   "source": [
    "### Optimizing the min_samples_leaf Parameter"
   ]
  },
  {
   "cell_type": "code",
   "execution_count": 23,
   "metadata": {},
   "outputs": [
    {
     "name": "stdout",
     "output_type": "stream",
     "text": [
      "i:1  val_mse:5821.785623242702  train_mse:5659.462139501373  diff:162.32348374132926  %:0.03\n",
      "i:2  val_mse:5811.731832742187  train_mse:5661.811152224412  diff:149.9206805177755  %:0.03\n",
      "i:3  val_mse:5812.925679205616  train_mse:5663.814921767265  diff:149.11075743835045  %:0.03\n",
      "i:4  val_mse:5813.397390221858  train_mse:5664.733360329468  diff:148.6640298923894  %:0.03\n",
      "i:5  val_mse:5812.028611179545  train_mse:5666.685189658643  diff:145.34342152090176  %:0.03\n",
      "i:6  val_mse:5813.2224734054325  train_mse:5668.24371819849  diff:144.97875520694288  %:0.02\n",
      "i:7  val_mse:5813.467962702556  train_mse:5670.530341534822  diff:142.9376211677345  %:0.02\n",
      "i:8  val_mse:5813.071964036915  train_mse:5672.796619161845  diff:140.27534487507  %:0.02\n",
      "i:9  val_mse:5812.9747600028595  train_mse:5676.361134013551  diff:136.61362598930828  %:0.02\n",
      "i:10  val_mse:5813.021583061744  train_mse:5680.800883956488  diff:132.22069910525624  %:0.02\n",
      "i:11  val_mse:5815.4288034088595  train_mse:5684.285981925644  diff:131.1428214832158  %:0.02\n",
      "i:12  val_mse:5818.052488822812  train_mse:5688.044585091085  diff:130.0079037317273  %:0.02\n",
      "i:13  val_mse:5819.9439200477655  train_mse:5691.283377206606  diff:128.66054284115944  %:0.02\n",
      "i:14  val_mse:5822.23629707926  train_mse:5694.454684040533  diff:127.7816130387273  %:0.02\n",
      "i:15  val_mse:5824.675556915933  train_mse:5698.473792760034  diff:126.20176415589958  %:0.02\n",
      "i:16  val_mse:5829.621765934425  train_mse:5703.738762421557  diff:125.88300351286762  %:0.02\n",
      "i:17  val_mse:5835.565529643587  train_mse:5710.858626334996  diff:124.70690330859088  %:0.02\n",
      "i:18  val_mse:5846.344528001762  train_mse:5722.42474165836  diff:123.91978634340194  %:0.02\n",
      "i:19  val_mse:5851.286931346383  train_mse:5729.927721721963  diff:121.35920962442015  %:0.02\n"
     ]
    }
   ],
   "source": [
    "val_mses = []\n",
    "train_mses = []\n",
    "\n",
    "for i in range(1,20):\n",
    "    rf3 = RandomForestRegressor(max_depth=7, min_samples_leaf=i, random_state=1)\n",
    "    rf3.fit(train[features], train['cnt'])\n",
    "    val_predictions = rf3.predict(val[features])\n",
    "    val_mse = np.mean((val_predictions - val['cnt']) ** 2)\n",
    "    val_mses.append(val_mse)\n",
    "    train_predictions = rf3.predict(train[features])\n",
    "    train_mse = np.mean((train_predictions - train['cnt']) ** 2)\n",
    "    train_mses.append(train_mse)\n",
    "    diff = val_mse - train_mse\n",
    "    percent_diff = round((diff/val_mse),2)\n",
    "    print('i:{}  val_mse:{}  train_mse:{}  diff:{}  %:{}'.format(i, val_mse, train_mse, diff, percent_diff))"
   ]
  },
  {
   "cell_type": "code",
   "execution_count": 24,
   "metadata": {},
   "outputs": [
    {
     "data": {
      "image/png": "[encoded data removed]",
      "text/plain": [
       "<Figure size 432x288 with 1 Axes>"
      ]
     },
     "metadata": {
      "needs_background": "light"
     },
     "output_type": "display_data"
    }
   ],
   "source": [
    "x = range(1,20)\n",
    "plt.plot(x,val_mses,label=\"validation\")\n",
    "plt.plot(x,train_mses, label=\"train\")\n",
    "plt.xlabel('min_samples_leaf')\n",
    "plt.ylabel('MSE')\n",
    "plt.title(\"MSE's by min_samples_leaf\")\n",
    "plt.legend()\n",
    "plt.show()"
   ]
  },
  {
   "cell_type": "markdown",
   "metadata": {},
   "source": [
    "Choosing a min_samples_leaf value of 10 helps to minimize the difference between the MSE's and still keep the overall MSE's low."
   ]
  },
  {
   "cell_type": "code",
   "execution_count": 25,
   "metadata": {},
   "outputs": [
    {
     "name": "stdout",
     "output_type": "stream",
     "text": [
      "train mse: 5680.800883956488       val mse: 5813.021583061744       difference: 132.22069910525624\n"
     ]
    }
   ],
   "source": [
    "rf3 = RandomForestRegressor(max_depth=7, min_samples_leaf=10, random_state=1)\n",
    "rf3.fit(train[features], train['cnt'])\n",
    "val_predictions = rf3.predict(val[features])\n",
    "val_mse = np.mean((val_predictions - val['cnt']) ** 2)\n",
    "train_predictions = rf3.predict(train[features])\n",
    "train_mse = np.mean((train_predictions - train['cnt']) ** 2)\n",
    "difference = abs(val_mse-train_mse)\n",
    "print('train mse: {}       val mse: {}       difference: {}'.format(train_mse, val_mse, difference))"
   ]
  },
  {
   "cell_type": "markdown",
   "metadata": {},
   "source": [
    "There is now no sign of overfitting, and we've kept our MSE values low:"
   ]
  },
  {
   "cell_type": "markdown",
   "metadata": {},
   "source": [
    "| Model | Train MSE | Validation MSE | Difference |\n",
    "| :------- | ------: | ------: | -----: |\n",
    "| Linear Regressor - default params | 16,598.37 | 15,795.34 | 803.03 |\n",
    "| Decision Tree Regressor - default params | 0.19 | 3,738.31 | 3,738.11 |\n",
    "| Decision Tree Regressor - max_depth=7 | 6,736.06 | 6,973.13 | 237.06 |\n",
    "| Decision Tree Regressor - max_depth=7, min_samples_leaf=7 | 6,743.48 | 6,967.11 | 223.63 |\n",
    "| Random Forest - default params | 270.87 | 2,056.17 | 1,785.29 |\n",
    "| Random Forest - max_depth=7 | 5,659.46 | 5821.78 | 162.32 |\n",
    "| Random Forest - max_depth=7, min_samples_leaf=10 | 5,680.80 | 5,813.02 | 132.22 |"
   ]
  },
  {
   "cell_type": "markdown",
   "metadata": {},
   "source": [
    "Let's try optimizing one more parameter before we conclude."
   ]
  },
  {
   "cell_type": "markdown",
   "metadata": {},
   "source": [
    "### Optimizing n_estimators Parameter"
   ]
  },
  {
   "cell_type": "code",
   "execution_count": 26,
   "metadata": {},
   "outputs": [
    {
     "name": "stdout",
     "output_type": "stream",
     "text": [
      "i:40  val_mse:5856.902677965206  train_mse:5713.636373304555  diff:143.26630466065126  %:0.02\n",
      "i:41  val_mse:5840.280011084992  train_mse:5696.621653080826  diff:143.65835800416608  %:0.02\n",
      "i:42  val_mse:5830.411890156162  train_mse:5684.559611848408  diff:145.8522783077542  %:0.03\n",
      "i:43  val_mse:5831.8763702343  train_mse:5685.457799880899  diff:146.41857035340126  %:0.03\n",
      "i:44  val_mse:5841.033545908452  train_mse:5693.993625563545  diff:147.03992034490693  %:0.03\n",
      "i:45  val_mse:5845.655179656639  train_mse:5694.093087955696  diff:151.5620917009428  %:0.03\n",
      "i:46  val_mse:5838.568443222037  train_mse:5685.303111565028  diff:153.26533165700857  %:0.03\n",
      "i:47  val_mse:5830.010898031603  train_mse:5676.221990896889  diff:153.78890713471355  %:0.03\n",
      "i:48  val_mse:5828.335020271083  train_mse:5678.8049156097895  diff:149.53010466129308  %:0.03\n",
      "i:49  val_mse:5825.606783248186  train_mse:5678.6098933319945  diff:146.99688991619132  %:0.03\n",
      "i:50  val_mse:5817.376423905122  train_mse:5672.564859005813  diff:144.8115648993089  %:0.02\n",
      "i:51  val_mse:5802.810308779093  train_mse:5663.150416837468  diff:139.65989194162557  %:0.02\n",
      "i:52  val_mse:5792.853807979264  train_mse:5656.602191760939  diff:136.25161621832558  %:0.02\n",
      "i:53  val_mse:5778.522717601278  train_mse:5647.015184373358  diff:131.50753322791934  %:0.02\n",
      "i:54  val_mse:5780.68153254038  train_mse:5649.648970632422  diff:131.03256190795855  %:0.02\n",
      "i:55  val_mse:5779.873967247301  train_mse:5648.331342991375  diff:131.54262425592606  %:0.02\n",
      "i:56  val_mse:5773.453363359641  train_mse:5644.741719593686  diff:128.71164376595516  %:0.02\n",
      "i:57  val_mse:5777.714005307636  train_mse:5651.596509100082  diff:126.11749620755472  %:0.02\n",
      "i:58  val_mse:5776.250035822897  train_mse:5652.093894382317  diff:124.15614144058054  %:0.02\n",
      "i:59  val_mse:5775.89576505321  train_mse:5653.819694426134  diff:122.07607062707575  %:0.02\n",
      "i:60  val_mse:5768.939047891002  train_mse:5644.921036417732  diff:124.01801147327024  %:0.02\n",
      "i:61  val_mse:5767.556894429679  train_mse:5648.002105051183  diff:119.55478937849603  %:0.02\n",
      "i:62  val_mse:5767.1679033278215  train_mse:5648.629554456764  diff:118.53834887105768  %:0.02\n",
      "i:63  val_mse:5774.4799582805845  train_mse:5650.59426108586  diff:123.88569719472434  %:0.02\n",
      "i:64  val_mse:5780.3752113837645  train_mse:5653.8681105246  diff:126.5071008591649  %:0.02\n",
      "i:65  val_mse:5785.291593950757  train_mse:5660.0767097398275  diff:125.21488421092909  %:0.02\n",
      "i:66  val_mse:5786.653227513728  train_mse:5658.715208804853  diff:127.93801870887455  %:0.02\n",
      "i:67  val_mse:5791.554589187715  train_mse:5665.098847984036  diff:126.45574120367837  %:0.02\n",
      "i:68  val_mse:5797.699598749885  train_mse:5667.529835933314  diff:130.16976281657116  %:0.02\n",
      "i:69  val_mse:5802.292102239357  train_mse:5671.362314535189  diff:130.9297877041672  %:0.02\n",
      "i:70  val_mse:5810.9659413301415  train_mse:5681.353254331583  diff:129.61268699855827  %:0.02\n",
      "i:71  val_mse:5811.141157906524  train_mse:5682.34198999982  diff:128.7991679067045  %:0.02\n",
      "i:72  val_mse:5811.143979691027  train_mse:5683.52458631031  diff:127.61939338071716  %:0.02\n",
      "i:73  val_mse:5817.209159692781  train_mse:5689.723267109449  diff:127.48589258333232  %:0.02\n",
      "i:74  val_mse:5817.802421464535  train_mse:5691.298725832357  diff:126.50369563217737  %:0.02\n",
      "i:75  val_mse:5826.742429556385  train_mse:5699.196610875207  diff:127.54581868117839  %:0.02\n",
      "i:76  val_mse:5828.593770153222  train_mse:5703.018674002673  diff:125.57509615054914  %:0.02\n",
      "i:77  val_mse:5834.535103262217  train_mse:5705.133952316403  diff:129.40115094581324  %:0.02\n",
      "i:78  val_mse:5838.427790905672  train_mse:5709.825489273543  diff:128.60230163212873  %:0.02\n",
      "i:79  val_mse:5836.187858156082  train_mse:5709.519536918447  diff:126.66832123763561  %:0.02\n",
      "i:80  val_mse:5840.337496878832  train_mse:5713.116744511109  diff:127.22075236772343  %:0.02\n"
     ]
    }
   ],
   "source": [
    "val_mses = []\n",
    "train_mses = []\n",
    "\n",
    "for i in range(40,81,1):\n",
    "    rf4 = RandomForestRegressor(min_samples_leaf=10, max_depth=7, n_estimators=i, random_state=1)\n",
    "    rf4.fit(train[features], train['cnt'])\n",
    "    val_predictions = rf4.predict(val[features])\n",
    "    val_mse = np.mean((val_predictions - val['cnt']) ** 2)\n",
    "    val_mses.append(val_mse)\n",
    "    train_predictions = rf4.predict(train[features])\n",
    "    train_mse = np.mean((train_predictions - train['cnt']) ** 2)\n",
    "    train_mses.append(train_mse)\n",
    "    diff = val_mse - train_mse\n",
    "    percent_diff = round((diff/val_mse),2)\n",
    "    print('i:{}  val_mse:{}  train_mse:{}  diff:{}  %:{}'.format(i, val_mse, train_mse, diff, percent_diff))"
   ]
  },
  {
   "cell_type": "code",
   "execution_count": 27,
   "metadata": {},
   "outputs": [
    {
     "data": {
      "image/png": "[encoded data removed]",
      "text/plain": [
       "<Figure size 432x288 with 1 Axes>"
      ]
     },
     "metadata": {
      "needs_background": "light"
     },
     "output_type": "display_data"
    }
   ],
   "source": [
    "x = range(40,81,1)\n",
    "plt.plot(x,val_mses,label=\"validation\")\n",
    "plt.plot(x,train_mses, label=\"train\")\n",
    "plt.xlabel('n_estimators')\n",
    "plt.ylabel('MSE')\n",
    "plt.title(\"MSE's by n_estimators\")\n",
    "plt.legend()\n",
    "plt.show()"
   ]
  },
  {
   "cell_type": "markdown",
   "metadata": {},
   "source": [
    "For our purposes, we'll choose the value of 62 as it minimizes the validation MSE and the difference between train and validation MSE values."
   ]
  },
  {
   "cell_type": "code",
   "execution_count": 28,
   "metadata": {},
   "outputs": [
    {
     "name": "stdout",
     "output_type": "stream",
     "text": [
      "train mse: 5648.629554456764       val mse: 5767.1679033278215       difference: 118.53834887105768\n"
     ]
    }
   ],
   "source": [
    "rf4 = RandomForestRegressor(min_samples_leaf=10, max_depth=7, n_estimators=62, random_state=1)\n",
    "rf4.fit(train[features], train['cnt'])\n",
    "val_predictions = rf4.predict(val[features])\n",
    "val_mse = np.mean((val_predictions - val['cnt']) ** 2)\n",
    "train_predictions = rf4.predict(train[features])\n",
    "train_mse = np.mean((train_predictions - train['cnt']) ** 2)\n",
    "difference = abs(val_mse-train_mse)\n",
    "print('train mse: {}       val mse: {}       difference: {}'.format(train_mse, val_mse, difference))"
   ]
  },
  {
   "cell_type": "markdown",
   "metadata": {},
   "source": [
    "Now to compare our values:"
   ]
  },
  {
   "cell_type": "markdown",
   "metadata": {},
   "source": [
    "| Model | Train MSE | Validation MSE | Difference |\n",
    "| :------- | ------: | ------: | -----: |\n",
    "| Linear Regressor - default params | 16,598.37 | 15,795.34 | 803.03 |\n",
    "| Decision Tree Regressor - default params | 0.19 | 3,738.31 | 3,738.11 |\n",
    "| Decision Tree Regressor - max_depth=7 | 6,736.06 | 6,973.13 | 237.06 |\n",
    "| Decision Tree Regressor - max_depth=7, min_samples_leaf=7 | 6,743.48 | 6,967.11 | 223.63 |\n",
    "| Random Forest - default params | 270.87 | 2,056.17 | 1,785.29 |\n",
    "| Random Forest - max_depth=7 | 5,659.46 | 5821.78 | 162.32 |\n",
    "| Random Forest - max_depth=7, min_samples_leaf=10 | 5,680.80 | 5,813.02 | 132.22 |\n",
    "| Random Forest - max_depth=7, min_samples_leaf=10, n_estimators=62 | 5,648.62 | 5,767.16 | 118.53 |"
   ]
  },
  {
   "cell_type": "markdown",
   "metadata": {},
   "source": [
    "This yields a slight improvement to our model and this is our best model yet.\n",
    "\n",
    "Let's see how the models perform on new data."
   ]
  },
  {
   "cell_type": "markdown",
   "metadata": {},
   "source": [
    "## Making Predictions"
   ]
  },
  {
   "cell_type": "markdown",
   "metadata": {},
   "source": [
    "### Linear Regression Model"
   ]
  },
  {
   "cell_type": "code",
   "execution_count": 29,
   "metadata": {},
   "outputs": [
    {
     "name": "stdout",
     "output_type": "stream",
     "text": [
      "test mse: 15477.810680082677\n"
     ]
    }
   ],
   "source": [
    "test_predictions = lr.predict(test[features])\n",
    "test_mse = np.mean((test_predictions - test['cnt']) ** 2)\n",
    "print('test mse: {}'.format(test_mse))"
   ]
  },
  {
   "cell_type": "markdown",
   "metadata": {},
   "source": [
    "### Decision Tree Models"
   ]
  },
  {
   "cell_type": "markdown",
   "metadata": {},
   "source": [
    "#### Default Params"
   ]
  },
  {
   "cell_type": "code",
   "execution_count": 30,
   "metadata": {},
   "outputs": [
    {
     "name": "stdout",
     "output_type": "stream",
     "text": [
      "test mse: 3553.0707710011507\n"
     ]
    }
   ],
   "source": [
    "test_predictions = dtr1.predict(test[features])\n",
    "test_mse = np.mean((test_predictions - test['cnt']) ** 2)\n",
    "print('test mse: {}'.format(test_mse))"
   ]
  },
  {
   "cell_type": "markdown",
   "metadata": {},
   "source": [
    "#### max_depth=7"
   ]
  },
  {
   "cell_type": "code",
   "execution_count": 31,
   "metadata": {},
   "outputs": [
    {
     "name": "stdout",
     "output_type": "stream",
     "text": [
      "test mse: 6955.9343757873885\n"
     ]
    }
   ],
   "source": [
    "test_predictions = dtr2.predict(test[features])\n",
    "test_mse = np.mean((test_predictions - test['cnt']) ** 2)\n",
    "print('test mse: {}'.format(test_mse))"
   ]
  },
  {
   "cell_type": "markdown",
   "metadata": {},
   "source": [
    "#### max_depth=7, min_samples_leaf=14"
   ]
  },
  {
   "cell_type": "code",
   "execution_count": 32,
   "metadata": {},
   "outputs": [
    {
     "name": "stdout",
     "output_type": "stream",
     "text": [
      "test mse: 6936.317181328416\n"
     ]
    }
   ],
   "source": [
    "test_predictions = dtr3.predict(test[features])\n",
    "test_mse = np.mean((test_predictions - test['cnt']) ** 2)\n",
    "print('test mse: {}'.format(test_mse))"
   ]
  },
  {
   "cell_type": "markdown",
   "metadata": {},
   "source": [
    "### Random Forest Models"
   ]
  },
  {
   "cell_type": "markdown",
   "metadata": {},
   "source": [
    "#### Default Params"
   ]
  },
  {
   "cell_type": "code",
   "execution_count": 33,
   "metadata": {},
   "outputs": [
    {
     "name": "stdout",
     "output_type": "stream",
     "text": [
      "test mse: 1887.4690063131472\n"
     ]
    }
   ],
   "source": [
    "test_predictions = rf1.predict(test[features])\n",
    "test_mse = np.mean((test_predictions - test['cnt']) ** 2)\n",
    "print('test mse: {}'.format(test_mse))"
   ]
  },
  {
   "cell_type": "markdown",
   "metadata": {},
   "source": [
    "#### max_depth=7"
   ]
  },
  {
   "cell_type": "code",
   "execution_count": 34,
   "metadata": {},
   "outputs": [
    {
     "name": "stdout",
     "output_type": "stream",
     "text": [
      "test mse: 5909.90887133457\n"
     ]
    }
   ],
   "source": [
    "test_predictions = rf2.predict(test[features])\n",
    "test_mse = np.mean((test_predictions - test['cnt']) ** 2)\n",
    "print('test mse: {}'.format(test_mse))"
   ]
  },
  {
   "cell_type": "markdown",
   "metadata": {},
   "source": [
    "#### max_depth=7, min_samples_leaf=10"
   ]
  },
  {
   "cell_type": "code",
   "execution_count": 35,
   "metadata": {},
   "outputs": [
    {
     "name": "stdout",
     "output_type": "stream",
     "text": [
      "test mse: 5911.413048541452\n"
     ]
    }
   ],
   "source": [
    "test_predictions = rf3.predict(test[features])\n",
    "test_mse = np.mean((test_predictions - test['cnt']) ** 2)\n",
    "print('test mse: {}'.format(test_mse))"
   ]
  },
  {
   "cell_type": "markdown",
   "metadata": {},
   "source": [
    "#### max_depth=7, min_samples_leaf=10, n_estimators=62"
   ]
  },
  {
   "cell_type": "code",
   "execution_count": 36,
   "metadata": {},
   "outputs": [
    {
     "name": "stdout",
     "output_type": "stream",
     "text": [
      "test mse: 5876.585696137496\n"
     ]
    }
   ],
   "source": [
    "test_predictions = rf4.predict(test[features])\n",
    "test_mse = np.mean((test_predictions - test['cnt']) ** 2)\n",
    "print('test mse: {}'.format(test_mse))"
   ]
  },
  {
   "cell_type": "markdown",
   "metadata": {},
   "source": [
    "### Testing Results"
   ]
  },
  {
   "cell_type": "markdown",
   "metadata": {},
   "source": [
    "| Model | Train MSE | Validation MSE | TEST MSE |\n",
    "| :------- | ------: | ------: | -----: |\n",
    "| Linear Regressor - default params | 16,598.37 | 15,575.51 | 15,477.81 |\n",
    "| Decision Tree Regressor - default params \\* | 0.19 | 3,640.70 | 3,553.07 |\n",
    "| Decision Tree Regressor - max_depth=7 | 6,736.06 | 6,701.03 | 6,955.93 |\n",
    "| Decision Tree Regressor - max_depth=7, min_samples_leaf=7 | 6,743.48 | 6,967.11 | 6,936.31 |\n",
    "| Random Forest - default params \\* | 270.87 | 2,065.64 | 1,887.46 |\n",
    "| Random Forest - max_depth=7 | 5,659.46 | 5,678.02 | 5,909.90 |\n",
    "| Random Forest - max_depth=7, min_samples_leaf=10 | 5,680.80 | 5,681.15 | 5,911.41 |\n",
    "| **Random Forest - max_depth=7, min_samples_leaf=10, n_estimators=60** | **5,644.92** | **5,640.92** | **5,876.58** |\n",
    "| | | | |\n",
    "| \\* clearly overfitting | | | |"
   ]
  },
  {
   "cell_type": "markdown",
   "metadata": {},
   "source": [
    "Let's plot a sample of our best model's predictions versus the actual values."
   ]
  },
  {
   "cell_type": "code",
   "execution_count": 37,
   "metadata": {},
   "outputs": [
    {
     "name": "stderr",
     "output_type": "stream",
     "text": [
      "<ipython-input-37-984272f8400b>:1: SettingWithCopyWarning: \n",
      "A value is trying to be set on a copy of a slice from a DataFrame.\n",
      "Try using .loc[row_indexer,col_indexer] = value instead\n",
      "\n",
      "See the caveats in the documentation: https://pandas.pydata.org/pandas-docs/stable/user_guide/indexing.html#returning-a-view-versus-a-copy\n",
      "  test['predictions'] = test_predictions\n"
     ]
    },
    {
     "data": {
      "image/png": "[encoded data removed]",
      "text/plain": [
       "<Figure size 1440x720 with 1 Axes>"
      ]
     },
     "metadata": {
      "needs_background": "light"
     },
     "output_type": "display_data"
    }
   ],
   "source": [
    "test['predictions'] = test_predictions\n",
    "x = test.index\n",
    "fig = plt.figure(figsize = (20,10))\n",
    "plt.plot(x[:200], test['cnt'][:200], label='actual', alpha=.8)\n",
    "plt.plot(x[:200], test['predictions'][:200], label='predicted', alpha=.5)\n",
    "plt.xlim(0, )\n",
    "plt.ylabel('count')\n",
    "plt.legend()\n",
    "plt.title('Model Predictions vs Actual Values')\n",
    "plt.show()"
   ]
  },
  {
   "cell_type": "markdown",
   "metadata": {},
   "source": [
    "From this graph, it looks like our model is working pretty well.  It's failing to predict the highest count values which are the right skewed values in the histogram we plotted at the beginning of our project."
   ]
  },
  {
   "cell_type": "markdown",
   "metadata": {},
   "source": [
    "## Conclusions"
   ]
  },
  {
   "cell_type": "markdown",
   "metadata": {},
   "source": [
    "It's clear our Random Forest Regressor with max_depth=7, min_samples_leaf=10, n_estimators=60 is our best model."
   ]
  },
  {
   "cell_type": "markdown",
   "metadata": {},
   "source": [
    "### Possible Improvements"
   ]
  },
  {
   "cell_type": "markdown",
   "metadata": {},
   "source": [
    "  * engineer a weather index feature\n",
    "  * try removing some of the least correlated features\n",
    "  * try modeling for 'registered' and 'casual' instead of 'cnt'"
   ]
  },
  {
   "cell_type": "markdown",
   "metadata": {},
   "source": [
    "## Revisiting Features"
   ]
  },
  {
   "cell_type": "markdown",
   "metadata": {},
   "source": [
    "### Removing Less Correlated Features"
   ]
  },
  {
   "cell_type": "markdown",
   "metadata": {},
   "source": [
    "Let's try removing some of the least correlated features to see if this helps our models."
   ]
  },
  {
   "cell_type": "code",
   "execution_count": 38,
   "metadata": {},
   "outputs": [
    {
     "data": {
      "text/plain": [
       "cnt              1.000000\n",
       "registered       0.972151\n",
       "casual           0.694564\n",
       "time_label       0.494422\n",
       "temp             0.404772\n",
       "atemp            0.400929\n",
       "hr               0.394071\n",
       "hum              0.322911\n",
       "instant          0.278379\n",
       "yr               0.250495\n",
       "season           0.178056\n",
       "weathersit       0.142426\n",
       "mnth             0.120638\n",
       "weather_index    0.102756\n",
       "windspeed        0.093234\n",
       "holiday          0.030927\n",
       "workingday       0.030284\n",
       "weekday          0.026900\n",
       "Name: cnt, dtype: float64"
      ]
     },
     "execution_count": 38,
     "metadata": {},
     "output_type": "execute_result"
    }
   ],
   "source": [
    "abs(bike_rentals.corr()['cnt']).sort_values(ascending=False)"
   ]
  },
  {
   "cell_type": "code",
   "execution_count": 39,
   "metadata": {},
   "outputs": [],
   "source": [
    "# remove features with correlation < .05\n",
    "less_features = ['season', 'yr', 'mnth', 'hr', 'weathersit', 'temp', 'hum', 'windspeed', 'time_label']"
   ]
  },
  {
   "cell_type": "code",
   "execution_count": 40,
   "metadata": {},
   "outputs": [
    {
     "name": "stdout",
     "output_type": "stream",
     "text": [
      "train mse: 8502.699815454234       val mse: 8776.518007247138       difference: 273.81819179290324\n"
     ]
    }
   ],
   "source": [
    "rf4 = RandomForestRegressor(min_samples_leaf=10, max_depth=7, n_estimators=62, random_state=1)\n",
    "rf4.fit(train[less_features], train['cnt'])\n",
    "val_predictions = rf4.predict(val[less_features])\n",
    "val_mse = np.mean((val_predictions - val['cnt']) ** 2)\n",
    "train_predictions = rf4.predict(train[less_features])\n",
    "train_mse = np.mean((train_predictions - train['cnt']) ** 2)\n",
    "difference = abs(val_mse-train_mse)\n",
    "print('train mse: {}       val mse: {}       difference: {}'.format(train_mse, val_mse, difference))"
   ]
  },
  {
   "cell_type": "markdown",
   "metadata": {},
   "source": [
    "It seems removing these features had a significant, negative impact on our model.\n",
    "\n",
    "Let's see what impact engineering a weather index will have."
   ]
  },
  {
   "cell_type": "markdown",
   "metadata": {},
   "source": [
    "### Adding Weather Index Feature"
   ]
  },
  {
   "cell_type": "code",
   "execution_count": 41,
   "metadata": {},
   "outputs": [],
   "source": [
    "features_plus_weather = ['season', 'yr', 'mnth', 'hr', 'holiday', 'weekday',\n",
    "       'workingday', 'weathersit', 'temp', 'hum', 'windspeed', 'time_label', 'weather_index']"
   ]
  },
  {
   "cell_type": "code",
   "execution_count": 42,
   "metadata": {},
   "outputs": [
    {
     "name": "stdout",
     "output_type": "stream",
     "text": [
      "train mse: 5646.270206205294       val mse: 5764.959163539579       difference: 118.68895733428508\n"
     ]
    }
   ],
   "source": [
    "rf4 = RandomForestRegressor(min_samples_leaf=10, max_depth=7, n_estimators=62, random_state=1)\n",
    "rf4.fit(train[features_plus_weather], train['cnt'])\n",
    "val_predictions = rf4.predict(val[features_plus_weather])\n",
    "val_mse = np.mean((val_predictions - val['cnt']) ** 2)\n",
    "train_predictions = rf4.predict(train[features_plus_weather])\n",
    "train_mse = np.mean((train_predictions - train['cnt']) ** 2)\n",
    "difference = abs(val_mse-train_mse)\n",
    "print('train mse: {}       val mse: {}       difference: {}'.format(train_mse, val_mse, difference))"
   ]
  },
  {
   "cell_type": "code",
   "execution_count": 43,
   "metadata": {},
   "outputs": [
    {
     "name": "stdout",
     "output_type": "stream",
     "text": [
      "test mse: 5877.706976888732\n"
     ]
    }
   ],
   "source": [
    "test_predictions = rf4.predict(test[features_plus_weather])\n",
    "test_mse = np.mean((test_predictions - test['cnt']) ** 2)\n",
    "print('test mse: {}'.format(test_mse))"
   ]
  },
  {
   "cell_type": "markdown",
   "metadata": {},
   "source": [
    "These results show no real improvements from our model with original features."
   ]
  },
  {
   "cell_type": "markdown",
   "metadata": {},
   "source": [
    "### Removing 'hr' from Features"
   ]
  },
  {
   "cell_type": "markdown",
   "metadata": {},
   "source": [
    "Since we created a time label, the 'hr' feature is redundant.  Let's see how removing this feature impacts our model."
   ]
  },
  {
   "cell_type": "code",
   "execution_count": 44,
   "metadata": {},
   "outputs": [],
   "source": [
    "features_minus_hr = ['season', 'yr', 'mnth', 'holiday', 'weekday',\n",
    "       'workingday', 'weathersit', 'temp', 'hum', 'windspeed', 'time_label']"
   ]
  },
  {
   "cell_type": "code",
   "execution_count": 45,
   "metadata": {},
   "outputs": [
    {
     "name": "stdout",
     "output_type": "stream",
     "text": [
      "train mse: 11839.215241036052       val mse: 11855.720526245888       difference: 16.505285209836075\n"
     ]
    }
   ],
   "source": [
    "rf4 = RandomForestRegressor(min_samples_leaf=10, max_depth=7, n_estimators=62, random_state=1)\n",
    "rf4.fit(train[features_minus_hr], train['cnt'])\n",
    "val_predictions = rf4.predict(val[features_minus_hr])\n",
    "val_mse = np.mean((val_predictions - val['cnt']) ** 2)\n",
    "train_predictions = rf4.predict(train[features_minus_hr])\n",
    "train_mse = np.mean((train_predictions - train['cnt']) ** 2)\n",
    "difference = abs(val_mse-train_mse)\n",
    "print('train mse: {}       val mse: {}       difference: {}'.format(train_mse, val_mse, difference))"
   ]
  },
  {
   "cell_type": "code",
   "execution_count": 46,
   "metadata": {},
   "outputs": [
    {
     "name": "stdout",
     "output_type": "stream",
     "text": [
      "test mse: 11747.175685482813\n"
     ]
    }
   ],
   "source": [
    "test_predictions = rf4.predict(test[features_minus_hr])\n",
    "test_mse = np.mean((test_predictions - test['cnt']) ** 2)\n",
    "print('test mse: {}'.format(test_mse))"
   ]
  },
  {
   "cell_type": "markdown",
   "metadata": {},
   "source": [
    "These results obviously don't enhance our model.  It seems our initial choice for features was best."
   ]
  }
 ],
 "metadata": {
  "kernelspec": {
   "display_name": "Python 3",
   "language": "python",
   "name": "python3"
  },
  "language_info": {
   "codemirror_mode": {
    "name": "ipython",
    "version": 3
   },
   "file_extension": ".py",
   "mimetype": "text/x-python",
   "name": "python",
   "nbconvert_exporter": "python",
   "pygments_lexer": "ipython3",
   "version": "3.8.5"
  }
 },
 "nbformat": 4,
 "nbformat_minor": 4
}
